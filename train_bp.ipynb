{
 "cells": [
  {
   "cell_type": "code",
   "execution_count": 1,
   "metadata": {
    "collapsed": true
   },
   "outputs": [],
   "source": [
    "import matplotlib.pyplot as plt\n",
    "import numpy as np\n",
    "import tensorflow as tf\n",
    "from tqdm import tqdm\n",
    "\n",
    "from data_preprocessing import *\n",
    "from graph_construction import *"
   ]
  },
  {
   "cell_type": "code",
   "execution_count": 2,
   "metadata": {
    "collapsed": true
   },
   "outputs": [],
   "source": [
    "def load_all_data(path_train, path_test):\n",
    "    \"\"\"\n",
    "    Loads train and test data from the given paths, normalizes them properly.\n",
    "    \"\"\"\n",
    "    train_data, mean, std, train_labels = extract_and_norm_data('train_32x32.mat')\n",
    "    test_data, test_labels = extract_test_data('test_32x32.mat', mean, std)\n",
    "    \n",
    "    return train_data, train_labels, test_data, test_labels"
   ]
  },
  {
   "cell_type": "code",
   "execution_count": 3,
   "metadata": {
    "collapsed": true
   },
   "outputs": [],
   "source": [
    "train_data, train_labels, test_data, test_labels = load_all_data('train_32x32.mat', 'test_32x32.mat')"
   ]
  },
  {
   "cell_type": "code",
   "execution_count": 4,
   "metadata": {
    "collapsed": true
   },
   "outputs": [],
   "source": [
    "use_dropout = True; learning_rate = 1e-3\n",
    "tf.reset_default_graph()\n",
    "X = tf.placeholder(dtype=tf.float32, shape=[None, 32, 32, 3])\n",
    "y = tf.placeholder(dtype=tf.float32, shape=[None, 1])\n",
    "prob = tf.placeholder_with_default(input=tf.constant(1.), shape=[])\n",
    "\n",
    "labels = tf.one_hot(tf.cast(y, tf.int32), depth=10)\n",
    "labels = tf.squeeze(labels, axis=1)\n",
    "\n",
    "\n",
    "W_conv1 = tf.get_variable(name='Wconv1', shape=[5, 5, 3, 32], dtype=tf.float32,\n",
    "                          initializer=tf.contrib.layers.xavier_initializer_conv2d())\n",
    "b_conv1 = tf.get_variable(name='bconv1', shape=[32], dtype=tf.float32, initializer=tf.zeros_initializer)\n",
    "\n",
    "h_conv1 = tf.nn.relu(tf.nn.conv2d(X, W_conv1, strides=[1,1,1,1], padding='SAME') + b_conv1)\n",
    "h_pool1 = tf.nn.max_pool(h_conv1, ksize=[1,2,2,1], strides=[1,2,2,1], padding='SAME')\n",
    "if use_dropout:\n",
    "    h_pool1 = tf.nn.dropout(h_pool1, prob)\n",
    "\n",
    "\n",
    "W_conv2 = tf.get_variable(name='Wconv2', shape=[5, 5, 32, 64], dtype=tf.float32,\n",
    "                         initializer=tf.contrib.layers.xavier_initializer_conv2d())\n",
    "b_conv2 = tf.get_variable(name='bconv2', shape=[64], dtype=tf.float32, initializer=tf.zeros_initializer)\n",
    "\n",
    "h_conv2 = tf.nn.relu(tf.nn.conv2d(h_pool1, W_conv2, strides=[1,1,1,1], padding='SAME') + b_conv2)\n",
    "h_pool2 = tf.nn.max_pool(h_conv2, ksize=[1,2,2,1], strides=[1,2,2,1], padding='SAME')\n",
    "if use_dropout:\n",
    "    h_pool2 = tf.nn.dropout(h_pool2, prob)\n",
    "\n",
    "\n",
    "W_fc1 = tf.get_variable(name='Wfc1', shape=[8*8*64, 1024], dtype=tf.float32, \n",
    "                        initializer=tf.contrib.layers.xavier_initializer())\n",
    "b_fc1 = tf.get_variable(name='bfc1', shape=[1024], dtype=tf.float32, initializer=tf.zeros_initializer)\n",
    "\n",
    "h_pool2_flat = tf.reshape(h_pool2, shape=[-1, 8*8*64])\n",
    "\n",
    "h_fc1 = tf.nn.relu(tf.matmul(h_pool2_flat, W_fc1) + b_fc1)\n",
    "\n",
    "if use_dropout:\n",
    "    h_fc1 = tf.nn.dropout(h_fc1, prob)\n",
    "\n",
    "\n",
    "W_fc2 = tf.get_variable(name='Wfc2', shape=[1024, 10], dtype=tf.float32, \n",
    "                        initializer=tf.contrib.layers.xavier_initializer())\n",
    "b_fc2 = tf.get_variable(name='bfc2', shape=[10], dtype=tf.float32, initializer=tf.zeros_initializer)\n",
    "\n",
    "z = tf.matmul(h_fc1, W_fc2) + b_fc2\n",
    "\n",
    "y_hat = tf.nn.softmax(z)\n",
    "\n",
    "\n",
    "\n",
    "loss = tf.reduce_mean(tf.nn.softmax_cross_entropy_with_logits(labels=labels, logits=z))\n",
    "\n",
    "correct_prediction = tf.equal(tf.argmax(labels,1), tf.argmax(y_hat,1))\n",
    "\n",
    "accuracy = tf.reduce_mean(tf.cast(correct_prediction, tf.float32))\n",
    "\n",
    "train_op = tf.train.AdamOptimizer(learning_rate=learning_rate).minimize(loss)\n",
    "\n",
    "model = tf.global_variables_initializer()\n"
   ]
  },
  {
   "cell_type": "code",
   "execution_count": 4,
   "metadata": {
    "collapsed": true
   },
   "outputs": [],
   "source": [
    "model, train_op, accuracy, X, y, prob = classifier(1e-3, True)"
   ]
  },
  {
   "cell_type": "code",
   "execution_count": 5,
   "metadata": {
    "collapsed": true
   },
   "outputs": [],
   "source": [
    "sess = tf.InteractiveSession()"
   ]
  },
  {
   "cell_type": "code",
   "execution_count": 6,
   "metadata": {
    "collapsed": true
   },
   "outputs": [],
   "source": [
    "sess.run(model)"
   ]
  },
  {
   "cell_type": "code",
   "execution_count": 26,
   "metadata": {
    "scrolled": true
   },
   "outputs": [
    {
     "name": "stderr",
     "output_type": "stream",
     "text": [
      "\n",
      "  0%|          | 0/500 [00:00<?, ?it/s]\u001b[A\n",
      "  0%|          | 1/500 [00:00<03:20,  2.49it/s]\u001b[A\n",
      "  0%|          | 2/500 [00:00<03:16,  2.53it/s]\u001b[A\n",
      "  1%|          | 3/500 [00:01<03:15,  2.54it/s]\u001b[A\n",
      "  1%|          | 4/500 [00:01<03:13,  2.56it/s]\u001b[A\n",
      "  1%|          | 5/500 [00:01<03:12,  2.57it/s]\u001b[A\n",
      "  1%|          | 6/500 [00:02<03:19,  2.47it/s]\u001b[A\n",
      "  1%|▏         | 7/500 [00:02<03:19,  2.47it/s]\u001b[A\n",
      "100%|██████████| 500/500 [03:00<00:00,  2.77it/s]\n"
     ]
    }
   ],
   "source": [
    "losses = np.array([])\n",
    "for step in tqdm(range(500)):\n",
    "    _, cost = sess.run([train_op, accuracy], feed_dict={X: train_data[step * 128:(step + 1)*128], y: train_labels[step * 128:(step + 1)*128]})\n",
    "    losses = np.append(losses, cost)"
   ]
  },
  {
   "cell_type": "code",
   "execution_count": 27,
   "metadata": {},
   "outputs": [
    {
     "data": {
      "image/png": "[encoded data removed]",
      "text/plain": [
       "<matplotlib.figure.Figure at 0x7f889f5055c0>"
      ]
     },
     "metadata": {},
     "output_type": "display_data"
    }
   ],
   "source": [
    "plt.plot(range(losses.shape[0]), losses)\n",
    "plt.show()"
   ]
  },
  {
   "cell_type": "code",
   "execution_count": 14,
   "metadata": {
    "collapsed": true
   },
   "outputs": [],
   "source": [
    "def get_batch(data, labels, step, size):\n",
    "    m = data.shape[0]\n",
    "    return range(m)[step * size:(step + 1) * size]"
   ]
  },
  {
   "cell_type": "code",
   "execution_count": 23,
   "metadata": {},
   "outputs": [
    {
     "data": {
      "text/plain": [
       "range(73257, 73257)"
      ]
     },
     "execution_count": 23,
     "metadata": {},
     "output_type": "execute_result"
    }
   ],
   "source": [
    "get_batch(train_data, train_labels, 574, 128)"
   ]
  },
  {
   "cell_type": "code",
   "execution_count": 31,
   "metadata": {
    "collapsed": true
   },
   "outputs": [],
   "source": [
    "def test_batch(m, b, i):\n",
    "    print(range(m)[i*b:(i+1)*b])"
   ]
  },
  {
   "cell_type": "code",
   "execution_count": 35,
   "metadata": {},
   "outputs": [
    {
     "name": "stdout",
     "output_type": "stream",
     "text": [
      "range(110, 110)\n"
     ]
    }
   ],
   "source": [
    "test_batch(110, 25)"
   ]
  },
  {
   "cell_type": "code",
   "execution_count": null,
   "metadata": {
    "collapsed": true
   },
   "outputs": [],
   "source": []
  }
 ],
 "metadata": {
  "kernelspec": {
   "display_name": "Python 3",
   "language": "python",
   "name": "python3"
  },
  "language_info": {
   "codemirror_mode": {
    "name": "ipython",
    "version": 3
   },
   "file_extension": ".py",
   "mimetype": "text/x-python",
   "name": "python",
   "nbconvert_exporter": "python",
   "pygments_lexer": "ipython3",
   "version": "3.5.4"
  }
 },
 "nbformat": 4,
 "nbformat_minor": 2
}
